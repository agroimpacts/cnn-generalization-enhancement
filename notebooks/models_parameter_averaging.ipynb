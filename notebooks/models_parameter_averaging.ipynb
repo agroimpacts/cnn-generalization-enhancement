{
 "cells": [
  {
   "cell_type": "code",
   "execution_count": null,
   "id": "a3dbc32f-d596-4a8d-9151-72b6840f8c7b",
   "metadata": {},
   "outputs": [],
   "source": [
    "import torch\n",
    "import os\n",
    "\n",
    "def average_models(model1_path, model2_path, output_path, weight=0.5, map_location=None):\n",
    "    \"\"\"\n",
    "    Averages the weights of two pre-trained models.\n",
    "\n",
    "    Parameters:\n",
    "    - model1_path: File path to the first model's state dictionary.\n",
    "    - model2_path: File path to the second model's state dictionary.\n",
    "    - output_path: File path for the output averaged model.\n",
    "    - weight: Weight for the first model's parameters.\n",
    "    - map_location: Device specification for loading the models (e.g., 'cpu', 'cuda:0').\n",
    "    \"\"\"\n",
    "\n",
    "    # Load the state dictionaries of the two models\n",
    "    state_dict1 = torch.load(model1_path, map_location=map_location)\n",
    "    state_dict2 = torch.load(model2_path, map_location=map_location)\n",
    "\n",
    "    # Averaging the weights\n",
    "    averaged_state_dict = {}\n",
    "    for key in state_dict1:\n",
    "        if key in state_dict2:\n",
    "            averaged_state_dict[key] = weight * state_dict1[key] + (1 - weight) * state_dict2[key]\n",
    "        else:\n",
    "            raise ValueError(\"Mismatch in state dict keys between the two models\")\n",
    "\n",
    "    # Save the averaged state dictionary\n",
    "    torch.save(averaged_state_dict, output_path)"
   ]
  },
  {
   "cell_type": "code",
   "execution_count": null,
   "id": "4e69976f-6dcc-4372-af54-e5df13f34ec3",
   "metadata": {},
   "outputs": [],
   "source": [
    "model1_path = \"\"\n",
    "model2_path = \"\"\n",
    "output_path = \"\"\n",
    "weight = \"\"\n",
    "map_location = \"cuda:0\""
   ]
  },
  {
   "cell_type": "code",
   "execution_count": null,
   "id": "f0929cad-0748-43b2-a45e-57778d16f4fa",
   "metadata": {},
   "outputs": [],
   "source": [
    "average_models('path_to_model1.pth', 'path_to_model2.pth', 'path_to_averaged_model.pth', map_location='cpu')"
   ]
  }
 ],
 "metadata": {
  "kernelspec": {
   "display_name": "Python 3 (ipykernel)",
   "language": "python",
   "name": "python3"
  },
  "language_info": {
   "codemirror_mode": {
    "name": "ipython",
    "version": 3
   },
   "file_extension": ".py",
   "mimetype": "text/x-python",
   "name": "python",
   "nbconvert_exporter": "python",
   "pygments_lexer": "ipython3",
   "version": "3.11.4"
  }
 },
 "nbformat": 4,
 "nbformat_minor": 5
}
